{
 "cells": [
  {
   "cell_type": "markdown",
   "metadata": {},
   "source": [
    "# SEMA-1D "
   ]
  },
  {
   "cell_type": "markdown",
   "metadata": {},
   "source": [
    "SEMA-1D is a fine-tuned ESM-1v model aimed to predict epitope resiudes based on antigen protein sequence"
   ]
  },
  {
   "cell_type": "markdown",
   "metadata": {},
   "source": [
    "## 1. Set up Environment"
   ]
  },
  {
   "cell_type": "code",
   "execution_count": 16,
   "metadata": {},
   "outputs": [
    {
     "name": "stdout",
     "output_type": "stream",
     "text": [
      "Requirement already satisfied: datasets in /opt/conda/lib/python3.11/site-packages (2.21.0)\n",
      "Requirement already satisfied: huggingface-hub in /opt/conda/lib/python3.11/site-packages (0.24.5)\n",
      "Requirement already satisfied: s3fs==0.4.2 in /opt/conda/lib/python3.11/site-packages (0.4.2)\n",
      "Requirement already satisfied: fair-esm in /opt/conda/lib/python3.11/site-packages (2.0.0)\n",
      "Requirement already satisfied: botocore>=1.12.91 in /opt/conda/lib/python3.11/site-packages (from s3fs==0.4.2) (1.34.131)\n",
      "Requirement already satisfied: fsspec>=0.6.0 in /opt/conda/lib/python3.11/site-packages (from s3fs==0.4.2) (2023.6.0)\n",
      "Requirement already satisfied: filelock in /opt/conda/lib/python3.11/site-packages (from datasets) (3.15.4)\n",
      "Requirement already satisfied: numpy>=1.17 in /opt/conda/lib/python3.11/site-packages (from datasets) (1.26.4)\n",
      "Requirement already satisfied: pyarrow>=15.0.0 in /opt/conda/lib/python3.11/site-packages (from datasets) (15.0.2)\n",
      "Requirement already satisfied: dill<0.3.9,>=0.3.0 in /opt/conda/lib/python3.11/site-packages (from datasets) (0.3.8)\n",
      "Requirement already satisfied: pandas in /opt/conda/lib/python3.11/site-packages (from datasets) (2.2.2)\n",
      "Requirement already satisfied: requests>=2.32.2 in /opt/conda/lib/python3.11/site-packages (from datasets) (2.32.3)\n",
      "Requirement already satisfied: tqdm>=4.66.3 in /opt/conda/lib/python3.11/site-packages (from datasets) (4.66.5)\n",
      "Requirement already satisfied: xxhash in /opt/conda/lib/python3.11/site-packages (from datasets) (3.5.0)\n",
      "Requirement already satisfied: multiprocess in /opt/conda/lib/python3.11/site-packages (from datasets) (0.70.16)\n",
      "Requirement already satisfied: aiohttp in /opt/conda/lib/python3.11/site-packages (from datasets) (3.9.5)\n",
      "Requirement already satisfied: packaging in /opt/conda/lib/python3.11/site-packages (from datasets) (24.1)\n",
      "Requirement already satisfied: pyyaml>=5.1 in /opt/conda/lib/python3.11/site-packages (from datasets) (6.0.2)\n",
      "Requirement already satisfied: typing-extensions>=3.7.4.3 in /opt/conda/lib/python3.11/site-packages (from huggingface-hub) (4.12.2)\n",
      "Requirement already satisfied: jmespath<2.0.0,>=0.7.1 in /opt/conda/lib/python3.11/site-packages (from botocore>=1.12.91->s3fs==0.4.2) (1.0.1)\n",
      "Requirement already satisfied: python-dateutil<3.0.0,>=2.1 in /opt/conda/lib/python3.11/site-packages (from botocore>=1.12.91->s3fs==0.4.2) (2.9.0)\n",
      "Requirement already satisfied: urllib3!=2.2.0,<3,>=1.25.4 in /opt/conda/lib/python3.11/site-packages (from botocore>=1.12.91->s3fs==0.4.2) (1.26.19)\n",
      "Requirement already satisfied: aiosignal>=1.1.2 in /opt/conda/lib/python3.11/site-packages (from aiohttp->datasets) (1.3.1)\n",
      "Requirement already satisfied: attrs>=17.3.0 in /opt/conda/lib/python3.11/site-packages (from aiohttp->datasets) (23.2.0)\n",
      "Requirement already satisfied: frozenlist>=1.1.1 in /opt/conda/lib/python3.11/site-packages (from aiohttp->datasets) (1.4.1)\n",
      "Requirement already satisfied: multidict<7.0,>=4.5 in /opt/conda/lib/python3.11/site-packages (from aiohttp->datasets) (6.0.5)\n",
      "Requirement already satisfied: yarl<2.0,>=1.0 in /opt/conda/lib/python3.11/site-packages (from aiohttp->datasets) (1.9.4)\n",
      "Requirement already satisfied: charset-normalizer<4,>=2 in /opt/conda/lib/python3.11/site-packages (from requests>=2.32.2->datasets) (3.3.2)\n",
      "Requirement already satisfied: idna<4,>=2.5 in /opt/conda/lib/python3.11/site-packages (from requests>=2.32.2->datasets) (3.7)\n",
      "Requirement already satisfied: certifi>=2017.4.17 in /opt/conda/lib/python3.11/site-packages (from requests>=2.32.2->datasets) (2024.7.4)\n",
      "Requirement already satisfied: pytz>=2020.1 in /opt/conda/lib/python3.11/site-packages (from pandas->datasets) (2023.3)\n",
      "Requirement already satisfied: tzdata>=2022.7 in /opt/conda/lib/python3.11/site-packages (from pandas->datasets) (2024.1)\n",
      "Requirement already satisfied: six>=1.5 in /opt/conda/lib/python3.11/site-packages (from python-dateutil<3.0.0,>=2.1->botocore>=1.12.91->s3fs==0.4.2) (1.16.0)\n",
      "Note: you may need to restart the kernel to use updated packages.\n",
      "\u001b[33mWARNING: Skipping tensorflow as it is not installed.\u001b[0m\u001b[33m\n",
      "\u001b[0mNote: you may need to restart the kernel to use updated packages.\n"
     ]
    }
   ],
   "source": [
    "%pip install datasets huggingface-hub s3fs=='0.4.2' fair-esm\n",
    "%pip uninstall tensorflow -y"
   ]
  },
  {
   "cell_type": "code",
   "execution_count": 17,
   "metadata": {},
   "outputs": [
    {
     "name": "stdout",
     "output_type": "stream",
     "text": [
      "Assumed SageMaker role is arn:aws:iam::340752820161:role/service-role/AmazonSageMaker-ExecutionRole-20241011T160996\n",
      "S3 path is s3://sagemaker-us-east-1-340752820161/esm2-sema-1d\n",
      "Experiment name is esm2-sema-1d-2024-10-20-01-21-05\n"
     ]
    }
   ],
   "source": [
    "import boto3\n",
    "import json\n",
    "import os\n",
    "import pandas as pd\n",
    "import random\n",
    "import sagemaker\n",
    "from sagemaker.experiments.run import Run\n",
    "from sagemaker.huggingface import HuggingFace, HuggingFaceModel\n",
    "from sagemaker.inputs import TrainingInput\n",
    "from time import strftime\n",
    "\n",
    "boto_session = boto3.session.Session()\n",
    "sagemaker_session = sagemaker.session.Session(boto_session)\n",
    "S3_BUCKET = sagemaker_session.default_bucket()\n",
    "s3 = boto_session.client(\"s3\")\n",
    "sagemaker_client = boto_session.client(\"sagemaker\")\n",
    "REGION_NAME = sagemaker_session.boto_region_name\n",
    "\n",
    "try:\n",
    "    sagemaker_execution_role = sagemaker_session.get_execution_role()\n",
    "except AttributeError:\n",
    "    NOTEBOOK_METADATA_FILE = \"/opt/ml/metadata/resource-metadata.json\"\n",
    "    with open(NOTEBOOK_METADATA_FILE, \"rb\") as f:\n",
    "        metadata = json.loads(f.read())\n",
    "        instance_name = metadata[\"ResourceName\"]\n",
    "        domain_id = metadata.get(\"DomainId\")\n",
    "        user_profile_name = metadata.get(\"UserProfileName\")\n",
    "        space_name = metadata.get(\"SpaceName\")\n",
    "    domain_desc = sagemaker_session.sagemaker_client.describe_domain(DomainId=domain_id)\n",
    "    if \"DefaultSpaceSettings\" in domain_desc:\n",
    "        sagemaker_execution_role = domain_desc[\"DefaultSpaceSettings\"][\"ExecutionRole\"]\n",
    "    else:\n",
    "        sagemaker_execution_role = domain_desc[\"DefaultUserSettings\"][\"ExecutionRole\"]\n",
    "\n",
    "print(f\"Assumed SageMaker role is {sagemaker_execution_role}\")\n",
    "\n",
    "S3_PREFIX = \"esm2-sema-1d\"\n",
    "S3_PATH = sagemaker.s3.s3_path_join(\"s3://\", S3_BUCKET, S3_PREFIX)\n",
    "print(f\"S3 path is {S3_PATH}\")\n",
    "\n",
    "EXPERIMENT_NAME = \"esm2-sema-1d-\" + strftime(\"%Y-%m-%d-%H-%M-%S\")\n",
    "print(f\"Experiment name is {EXPERIMENT_NAME}\")"
   ]
  },
  {
   "cell_type": "markdown",
   "metadata": {},
   "source": [
    "## 2. Build Dataset"
   ]
  },
  {
   "cell_type": "code",
   "execution_count": 18,
   "metadata": {},
   "outputs": [],
   "source": [
    "# SEMA data URLs\n",
    "train_data_url = 'https://raw.githubusercontent.com/AIRI-Institute/SEMAi/main/epitopes_prediction/data/sema_2.0/train_set.csv'\n",
    "test_data_url = 'https://raw.githubusercontent.com/AIRI-Institute/SEMAi/main/epitopes_prediction/data/sema_2.0/test_set.csv'\n",
    "\n",
    "# Download the data locally\n",
    "train_df = pd.read_csv(train_data_url)\n",
    "test_df = pd.read_csv(test_data_url)\n",
    "\n",
    "# Save to local paths\n",
    "train_local_path = 'train_set.csv'\n",
    "test_local_path = 'test_set.csv'\n",
    "train_df.to_csv(train_local_path, index=False)\n",
    "test_df.to_csv(test_local_path, index=False)"
   ]
  },
  {
   "cell_type": "markdown",
   "metadata": {},
   "source": [
    "Finally, we upload the processed training, test, and validation data to S3."
   ]
  },
  {
   "cell_type": "code",
   "execution_count": 19,
   "metadata": {},
   "outputs": [
    {
     "data": {
      "text/plain": [
       "'s3://sagemaker-us-east-1-340752820161/esm2-sema-1d/data/test/test_set.csv'"
      ]
     },
     "execution_count": 19,
     "metadata": {},
     "output_type": "execute_result"
    }
   ],
   "source": [
    "# Upload to S3\n",
    "sagemaker_session.upload_data(path=train_local_path, bucket=S3_BUCKET, key_prefix=f\"{S3_PREFIX}/data/train\")\n",
    "sagemaker_session.upload_data(path=test_local_path, bucket=S3_BUCKET, key_prefix=f\"{S3_PREFIX}/data/test\")\n"
   ]
  },
  {
   "cell_type": "markdown",
   "metadata": {},
   "source": [
    "## 3. Train Model in SageMaker"
   ]
  },
  {
   "cell_type": "code",
   "execution_count": 20,
   "metadata": {},
   "outputs": [],
   "source": [
    "hyperparameters = {\n",
    "    \"epochs\": 1,\n",
    "    \"per_device_train_batch_size\": 1,\n",
    "    \"per_device_eval_batch_size\": 1,\n",
    "    \"learning_rate\": 1e-5,\n",
    "    \"warmup_steps\": 0,\n",
    "    \"weight_decay\": 0.0,\n",
    "    \"gradient_accumulation_steps\": 1,\n",
    "    \"seed\": 42,\n",
    "}\n",
    "\n",
    "metric_definitions = [\n",
    "    {\"Name\": \"epoch\", \"Regex\": \"'epoch': ([0-9.]*)\"},\n",
    "    {\n",
    "        \"Name\": \"max_gpu_mem\",\n",
    "        \"Regex\": \"Max GPU memory use during training: ([0-9.e-]*) MB\",\n",
    "    },\n",
    "    {\"Name\": \"train_loss\", \"Regex\": \"'loss': ([0-9.e-]*)\"},\n",
    "    {\n",
    "        \"Name\": \"train_samples_per_second\",\n",
    "        \"Regex\": \"'train_samples_per_second': ([0-9.e-]*)\",\n",
    "    },\n",
    "    {\"Name\": \"eval_loss\", \"Regex\": \"'eval_loss': ([0-9.e-]*)\"},\n",
    "    {\"Name\": \"eval_accuracy\", \"Regex\": \"'eval_accuracy': ([0-9.e-]*)\"},\n",
    "]\n",
    "\n",
    "# Define the HuggingFace Estimator\n",
    "hf_estimator = HuggingFace(\n",
    "    base_job_name=\"esm-2-sema-1d\",\n",
    "    entry_point='train.py',\n",
    "    source_dir='scripts',\n",
    "    instance_type='ml.p3.2xlarge',\n",
    "    instance_count=1,\n",
    "    transformers_version=\"4.28\",\n",
    "    pytorch_version=\"2.0\",\n",
    "    py_version=\"py310\",\n",
    "    output_path=f\"{S3_PATH}/output\",\n",
    "    role=sagemaker_execution_role,\n",
    "    hyperparameters=hyperparameters,\n",
    "    metric_definitions=metric_definitions,\n",
    "    checkpoint_local_path=\"/opt/ml/checkpoints\",\n",
    "    sagemaker_session=sagemaker_session,\n",
    "    tags=[{\"Key\": \"project\", \"Value\": \"esm-fine-tuning\"}],\n",
    ")"
   ]
  },
  {
   "cell_type": "code",
   "execution_count": 21,
   "metadata": {},
   "outputs": [
    {
     "name": "stderr",
     "output_type": "stream",
     "text": [
      "INFO:sagemaker.image_uris:image_uri is not presented, retrieving image_uri based on instance_type, framework etc.\n",
      "INFO:sagemaker:Creating training-job with name: esm-2-sema-1d-2024-10-20-01-21-29-420\n"
     ]
    }
   ],
   "source": [
    "train_s3_uri = S3_PATH + \"/data/train/train_set.csv\"\n",
    "test_s3_uri = S3_PATH + \"/data/test/test_set.csv\"\n",
    "\n",
    "with Run(\n",
    "    experiment_name=EXPERIMENT_NAME,\n",
    "    sagemaker_session=sagemaker_session,\n",
    ") as run:\n",
    "    hf_estimator.fit(\n",
    "        {\n",
    "            'train': TrainingInput(s3_data=train_s3_uri, content_type='text/csv'),\n",
    "            'test': TrainingInput(s3_data=test_s3_uri, content_type='text/csv')\n",
    "        },\n",
    "        wait=False,\n",
    "    )"
   ]
  },
  {
   "cell_type": "markdown",
   "metadata": {},
   "source": [
    "You can view metrics and debugging information for this run in SageMaker Experiments."
   ]
  },
  {
   "cell_type": "code",
   "execution_count": 23,
   "metadata": {},
   "outputs": [
    {
     "name": "stdout",
     "output_type": "stream",
     "text": [
      "Training job name: esm-2-sema-1d-2024-10-20-01-21-29-420\n",
      "Training job status: InProgress\n",
      "Training job output: None\n"
     ]
    },
    {
     "data": {
      "text/html": [
       "<div>\n",
       "<style scoped>\n",
       "    .dataframe tbody tr th:only-of-type {\n",
       "        vertical-align: middle;\n",
       "    }\n",
       "\n",
       "    .dataframe tbody tr th {\n",
       "        vertical-align: top;\n",
       "    }\n",
       "\n",
       "    .dataframe thead th {\n",
       "        text-align: right;\n",
       "    }\n",
       "</style>\n",
       "<table border=\"1\" class=\"dataframe\">\n",
       "  <thead>\n",
       "    <tr style=\"text-align: right;\">\n",
       "      <th></th>\n",
       "      <th>0</th>\n",
       "    </tr>\n",
       "  </thead>\n",
       "  <tbody>\n",
       "    <tr>\n",
       "      <th>TrialComponentName</th>\n",
       "      <td>esm-2-sema-1d-2024-10-20-01-21-29-420-aws-trai...</td>\n",
       "    </tr>\n",
       "    <tr>\n",
       "      <th>DisplayName</th>\n",
       "      <td>esm-2-sema-1d-2024-10-20-01-21-29-420-aws-trai...</td>\n",
       "    </tr>\n",
       "    <tr>\n",
       "      <th>SourceArn</th>\n",
       "      <td>arn:aws:sagemaker:us-east-1:340752820161:train...</td>\n",
       "    </tr>\n",
       "    <tr>\n",
       "      <th>SageMaker.ImageUri</th>\n",
       "      <td>763104351884.dkr.ecr.us-east-1.amazonaws.com/h...</td>\n",
       "    </tr>\n",
       "    <tr>\n",
       "      <th>SageMaker.InstanceCount</th>\n",
       "      <td>1.0</td>\n",
       "    </tr>\n",
       "    <tr>\n",
       "      <th>SageMaker.InstanceType</th>\n",
       "      <td>ml.p3.2xlarge</td>\n",
       "    </tr>\n",
       "    <tr>\n",
       "      <th>SageMaker.VolumeSizeInGB</th>\n",
       "      <td>30.0</td>\n",
       "    </tr>\n",
       "    <tr>\n",
       "      <th>epochs</th>\n",
       "      <td>1.0</td>\n",
       "    </tr>\n",
       "    <tr>\n",
       "      <th>gradient_accumulation_steps</th>\n",
       "      <td>1.0</td>\n",
       "    </tr>\n",
       "    <tr>\n",
       "      <th>learning_rate</th>\n",
       "      <td>0.00001</td>\n",
       "    </tr>\n",
       "    <tr>\n",
       "      <th>per_device_eval_batch_size</th>\n",
       "      <td>1.0</td>\n",
       "    </tr>\n",
       "    <tr>\n",
       "      <th>per_device_train_batch_size</th>\n",
       "      <td>1.0</td>\n",
       "    </tr>\n",
       "    <tr>\n",
       "      <th>sagemaker_container_log_level</th>\n",
       "      <td>20.0</td>\n",
       "    </tr>\n",
       "    <tr>\n",
       "      <th>sagemaker_job_name</th>\n",
       "      <td>\"esm-2-sema-1d-2024-10-20-01-21-29-420\"</td>\n",
       "    </tr>\n",
       "    <tr>\n",
       "      <th>sagemaker_program</th>\n",
       "      <td>\"train.py\"</td>\n",
       "    </tr>\n",
       "    <tr>\n",
       "      <th>sagemaker_region</th>\n",
       "      <td>\"us-east-1\"</td>\n",
       "    </tr>\n",
       "    <tr>\n",
       "      <th>sagemaker_submit_directory</th>\n",
       "      <td>\"s3://sagemaker-us-east-1-340752820161/esm-2-s...</td>\n",
       "    </tr>\n",
       "    <tr>\n",
       "      <th>seed</th>\n",
       "      <td>42.0</td>\n",
       "    </tr>\n",
       "    <tr>\n",
       "      <th>warmup_steps</th>\n",
       "      <td>0.0</td>\n",
       "    </tr>\n",
       "    <tr>\n",
       "      <th>weight_decay</th>\n",
       "      <td>0.0</td>\n",
       "    </tr>\n",
       "    <tr>\n",
       "      <th>test - MediaType</th>\n",
       "      <td>text/csv</td>\n",
       "    </tr>\n",
       "    <tr>\n",
       "      <th>test - Value</th>\n",
       "      <td>s3://sagemaker-us-east-1-340752820161/esm2-sem...</td>\n",
       "    </tr>\n",
       "    <tr>\n",
       "      <th>train - MediaType</th>\n",
       "      <td>text/csv</td>\n",
       "    </tr>\n",
       "    <tr>\n",
       "      <th>train - Value</th>\n",
       "      <td>s3://sagemaker-us-east-1-340752820161/esm2-sem...</td>\n",
       "    </tr>\n",
       "    <tr>\n",
       "      <th>SageMaker.DebugHookOutput - MediaType</th>\n",
       "      <td>None</td>\n",
       "    </tr>\n",
       "    <tr>\n",
       "      <th>SageMaker.DebugHookOutput - Value</th>\n",
       "      <td>s3://sagemaker-us-east-1-340752820161/esm2-sem...</td>\n",
       "    </tr>\n",
       "    <tr>\n",
       "      <th>Trials</th>\n",
       "      <td>[Default-Run-Group-esm2-sema-1d-2024-10-20-01-...</td>\n",
       "    </tr>\n",
       "    <tr>\n",
       "      <th>Experiments</th>\n",
       "      <td>[esm2-sema-1d-2024-10-20-01-21-05]</td>\n",
       "    </tr>\n",
       "  </tbody>\n",
       "</table>\n",
       "</div>"
      ],
      "text/plain": [
       "                                                                                       0\n",
       "TrialComponentName                     esm-2-sema-1d-2024-10-20-01-21-29-420-aws-trai...\n",
       "DisplayName                            esm-2-sema-1d-2024-10-20-01-21-29-420-aws-trai...\n",
       "SourceArn                              arn:aws:sagemaker:us-east-1:340752820161:train...\n",
       "SageMaker.ImageUri                     763104351884.dkr.ecr.us-east-1.amazonaws.com/h...\n",
       "SageMaker.InstanceCount                                                              1.0\n",
       "SageMaker.InstanceType                                                     ml.p3.2xlarge\n",
       "SageMaker.VolumeSizeInGB                                                            30.0\n",
       "epochs                                                                               1.0\n",
       "gradient_accumulation_steps                                                          1.0\n",
       "learning_rate                                                                    0.00001\n",
       "per_device_eval_batch_size                                                           1.0\n",
       "per_device_train_batch_size                                                          1.0\n",
       "sagemaker_container_log_level                                                       20.0\n",
       "sagemaker_job_name                               \"esm-2-sema-1d-2024-10-20-01-21-29-420\"\n",
       "sagemaker_program                                                             \"train.py\"\n",
       "sagemaker_region                                                             \"us-east-1\"\n",
       "sagemaker_submit_directory             \"s3://sagemaker-us-east-1-340752820161/esm-2-s...\n",
       "seed                                                                                42.0\n",
       "warmup_steps                                                                         0.0\n",
       "weight_decay                                                                         0.0\n",
       "test - MediaType                                                                text/csv\n",
       "test - Value                           s3://sagemaker-us-east-1-340752820161/esm2-sem...\n",
       "train - MediaType                                                               text/csv\n",
       "train - Value                          s3://sagemaker-us-east-1-340752820161/esm2-sem...\n",
       "SageMaker.DebugHookOutput - MediaType                                               None\n",
       "SageMaker.DebugHookOutput - Value      s3://sagemaker-us-east-1-340752820161/esm2-sem...\n",
       "Trials                                 [Default-Run-Group-esm2-sema-1d-2024-10-20-01-...\n",
       "Experiments                                           [esm2-sema-1d-2024-10-20-01-21-05]"
      ]
     },
     "execution_count": 23,
     "metadata": {},
     "output_type": "execute_result"
    }
   ],
   "source": [
    "from sagemaker.analytics import ExperimentAnalytics\n",
    "\n",
    "training_job_details = hf_estimator.latest_training_job.describe()\n",
    "print(f\"Training job name: {training_job_details.get('TrainingJobName')}\")\n",
    "print(f\"Training job status: {training_job_details.get('TrainingJobStatus')}\")\n",
    "print(f\"Training job output: {training_job_details.get('ModelArtifacts')}\")\n",
    "\n",
    "search_expression = {\n",
    "    \"Filters\": [\n",
    "        {\n",
    "            \"Name\": \"DisplayName\",\n",
    "            \"Operator\": \"Contains\",\n",
    "            \"Value\": \"Training\",\n",
    "        }\n",
    "    ],\n",
    "}\n",
    "\n",
    "trial_component_analytics = ExperimentAnalytics(\n",
    "    sagemaker_session=sagemaker_session,\n",
    "    experiment_name=EXPERIMENT_NAME,\n",
    "    search_expression=search_expression,\n",
    ")\n",
    "\n",
    "trial_component_analytics.dataframe().T"
   ]
  },
  {
   "cell_type": "markdown",
   "metadata": {},
   "source": [
    "## 4. Deploy Model as Real-Time Inference Endpoint"
   ]
  },
  {
   "cell_type": "markdown",
   "metadata": {},
   "source": [
    "To deploy our endpoint, we call deploy() on our HuggingFace estimator object, passing in our desired number of instances and instance type."
   ]
  },
  {
   "cell_type": "code",
   "execution_count": 8,
   "metadata": {},
   "outputs": [
    {
     "ename": "NameError",
     "evalue": "name 'estimator' is not defined",
     "output_type": "error",
     "traceback": [
      "\u001b[0;31m---------------------------------------------------------------------------\u001b[0m",
      "\u001b[0;31mNameError\u001b[0m                                 Traceback (most recent call last)",
      "Cell \u001b[0;32mIn[8], line 1\u001b[0m\n\u001b[0;32m----> 1\u001b[0m predictor \u001b[38;5;241m=\u001b[39m \u001b[43mestimator\u001b[49m\u001b[38;5;241m.\u001b[39mdeploy(initial_instance_count\u001b[38;5;241m=\u001b[39m\u001b[38;5;241m1\u001b[39m, instance_type\u001b[38;5;241m=\u001b[39m\u001b[38;5;124m\"\u001b[39m\u001b[38;5;124mml.r5.2xlarge\u001b[39m\u001b[38;5;124m\"\u001b[39m)\n",
      "\u001b[0;31mNameError\u001b[0m: name 'estimator' is not defined"
     ]
    }
   ],
   "source": [
    "%%time\n",
    "\n",
    "predictor = hf_estimator.deploy(initial_instance_count=1, instance_type=\"ml.r5.2xlarge\")"
   ]
  },
  {
   "cell_type": "markdown",
   "metadata": {},
   "source": [
    "Try running some known epitopes"
   ]
  },
  {
   "cell_type": "code",
   "execution_count": null,
   "metadata": {},
   "outputs": [],
   "source": [
    "# Example sequence input for conformational B-cell epitope prediction (Ara h 2)\n",
    "sample_sequence = {\n",
    "    \"sequence\": \"MAKLTILVALALFLLAAHASARQQWELQGDRRCQSQLERANLRPCEQHLMQKIQRDEDSYERDPYSPSQDPYSPSPYDRRGAGSSQHQERCCNELNEFENNQRCMCEALQQIMENQSDRLQGRQQEQQFKRELRNLPQQCGLRAPQRCDLDVESGG\"\n",
    "}\n",
    "\n",
    "# Send the sequence to the deployed SageMaker predictor for epitope prediction\n",
    "response = predictor.predict(sample_sequence)\n",
    "\n",
    "# Print the predicted conformational B-cell epitopes\n",
    "print(response)\n"
   ]
  },
  {
   "cell_type": "code",
   "execution_count": null,
   "metadata": {},
   "outputs": [],
   "source": [
    "#Epoch\tTraining Loss\tValidation Loss\tPearson R\tMse\tR2 Score\n",
    "#1\t0.212700\t0.150756\t0.251578\t0.173891\t-0.567424\n",
    "#2\t0.157400\t0.165494\t0.253576\t0.183997\t-0.658516\n"
   ]
  },
  {
   "cell_type": "markdown",
   "metadata": {},
   "source": [
    "## 5. Clean up"
   ]
  },
  {
   "cell_type": "markdown",
   "metadata": {},
   "source": [
    "Delete endpoint"
   ]
  },
  {
   "cell_type": "code",
   "execution_count": null,
   "metadata": {},
   "outputs": [],
   "source": [
    "try:\n",
    "    predictor.delete_endpoint()\n",
    "except:\n",
    "    pass"
   ]
  },
  {
   "cell_type": "markdown",
   "metadata": {},
   "source": [
    "Delete S3 data"
   ]
  },
  {
   "cell_type": "code",
   "execution_count": null,
   "metadata": {},
   "outputs": [],
   "source": [
    "bucket = boto_session.resource(\"s3\").Bucket(S3_BUCKET)\n",
    "bucket.objects.filter(Prefix=S3_PREFIX).delete()"
   ]
  }
 ],
 "metadata": {
  "kernelspec": {
   "display_name": "Python 3 (ipykernel)",
   "language": "python",
   "name": "python3"
  },
  "language_info": {
   "codemirror_mode": {
    "name": "ipython",
    "version": 3
   },
   "file_extension": ".py",
   "mimetype": "text/x-python",
   "name": "python",
   "nbconvert_exporter": "python",
   "pygments_lexer": "ipython3",
   "version": "3.11.9"
  }
 },
 "nbformat": 4,
 "nbformat_minor": 2
}
