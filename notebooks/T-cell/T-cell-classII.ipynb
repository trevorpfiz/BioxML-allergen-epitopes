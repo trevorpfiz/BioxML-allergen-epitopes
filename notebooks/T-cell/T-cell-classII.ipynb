{
 "cells": [
  {
   "cell_type": "code",
   "execution_count": 1,
   "id": "8d527a19-ed65-420b-b10b-a060dd5259fb",
   "metadata": {},
   "outputs": [],
   "source": [
    "import itertools"
   ]
  },
  {
   "cell_type": "code",
   "execution_count": 4,
   "id": "82c1a45c-7623-4adf-9257-7ac77ad29548",
   "metadata": {},
   "outputs": [],
   "source": [
    "def split_protein_sequence_classII(protein_sequence, min_length=13, max_length=25):\n",
    "    \"\"\"\n",
    "    Splits a protein sequence into peptides suitable for Class II MHC binding, generating most possible overlapping peptides\n",
    "    between the minimum and maximum length specified.\n",
    "\n",
    "    Args:\n",
    "        protein_sequence (str): The amino acid sequence of the protein.\n",
    "        min_length (int): The minimum length of each peptide (default is 13).\n",
    "        max_length (int): The maximum length of each peptide (default is 25).\n",
    "\n",
    "    Returns:\n",
    "        list: A list of peptide sequences.\n",
    "    \"\"\"\n",
    "    peptides = []\n",
    "    for length in range(min_length, max_length + 1):\n",
    "        peptides.extend([protein_sequence[i:i+length] \n",
    "                         for i in range(0, len(protein_sequence) - length + 1)])\n",
    "    return peptides"
   ]
  },
  {
   "cell_type": "code",
   "execution_count": null,
   "id": "97d02b07-4d27-48bf-9f57-233bbb965694",
   "metadata": {},
   "outputs": [],
   "source": [
    "# Example usage\n",
    "protein_sequence = \"MTEYKLVVVGAGGVGKSALTIQLIQNHFVDEYDPTIEDSYRKQVVIDGETCLLDILDTAG\"\n",
    "\n",
    "# Class II peptides\n",
    "classII_peptides = split_protein_sequence_classII(protein_sequence)\n",
    "print(\"Class II Peptides:\", classII_peptides)"
   ]
  },
  {
   "cell_type": "code",
   "execution_count": 31,
   "id": "6bec27ef-84e5-4c9b-9aa2-5a6dd51879f8",
   "metadata": {},
   "outputs": [],
   "source": [
    "import requests\n",
    "import pandas as pd\n",
    "from io import StringIO\n",
    "from itertools import product\n",
    "\n",
    "IEDB_API_URL_CLASSII = \"http://tools-cluster-interface.iedb.org/tools_api/mhcii/\"\n",
    "\n",
    "\n",
    "def run_netmhciipan_binding_affinity_classII(peptides, hla_alleles):\n",
    "    \"\"\"\n",
    "    Uses IEDB API to generate binding affinity for each peptide and HLA interaction for Class II MHC.\n",
    "\n",
    "    Args:\n",
    "        peptides (list): A list of peptide sequences.\n",
    "        hla_alleles (list): A list of HLA alleles for which to make predictions.\n",
    "\n",
    "    Returns:\n",
    "        dict: The binding affinity results for each peptide and HLA allele combination.\n",
    "    \"\"\"\n",
    "    # Prepare sequence text in FASTA format and escape special characters\n",
    "    sequence_text = \"\".join([f\">peptide{i}\\n{peptide}\\n\" for i, peptide in enumerate(peptides)])\n",
    "    hla_alleles_str = \",\".join(hla_alleles)\n",
    "\n",
    "    # Prepare the payload for the POST request\n",
    "    payload = {\n",
    "        \"method\": \"netmhciipan-4.1\",\n",
    "        \"sequence_text\": sequence_text,\n",
    "        \"allele\": hla_alleles_str,\n",
    "        \"length\": \"asis\"\n",
    "    }\n",
    "\n",
    "    # Make the POST request to IEDB API\n",
    "    try:\n",
    "        response = requests.post(IEDB_API_URL_CLASSII, data=payload)\n",
    "        response.raise_for_status()\n",
    "        return {\"results\": response.text}\n",
    "    except requests.exceptions.RequestException as e:\n",
    "        return {\"error\": str(e)}"
   ]
  },
  {
   "cell_type": "code",
   "execution_count": 29,
   "id": "0dabcbeb-8ffc-44fb-b235-dfbb68f558ed",
   "metadata": {},
   "outputs": [
    {
     "name": "stdout",
     "output_type": "stream",
     "text": [
      "Class II Results: {'results': 'allele\\tseq_num\\tstart\\tend\\tlength\\tcore_peptide\\tpeptide\\tic50\\trank\\nHLA-DQA1*05:01/DQB1*02:01\\t2\\t1\\t23\\t23\\tYDPTIEDSY\\tIQLIQNHFVDEYDPTIEDSYRKQ\\t369.97\\t3.7\\nHLA-DRB1*01:01\\t2\\t1\\t23\\t23\\tFVDEYDPTI\\tIQLIQNHFVDEYDPTIEDSYRKQ\\t1370.67\\t84.0\\nHLA-DQA1*05:01/DQB1*02:01\\t1\\t1\\t15\\t15\\tIEDSYRKQV\\tDPTIEDSYRKQVVID\\t10064.76\\t86.0\\nHLA-DRB1*01:01\\t1\\t1\\t15\\t15\\tIEDSYRKQV\\tDPTIEDSYRKQVVID\\t3987.26\\t91.0\\n'}\n"
     ]
    }
   ],
   "source": [
    "# Example usage for Class II\n",
    "peptides_classII = [\"DPTIEDSYRKQVVID\", \"IQLIQNHFVDEYDPTIEDSYRKQ\"]\n",
    "hla_alleles_classII = [\"HLA-DRB1*01:01\", \"HLA-DQA1*05:01/DQB1*02:01\"]\n",
    "result_classII = run_netmhciipan_binding_affinity_classII(peptides_classII, hla_alleles_classII)\n",
    "print(\"Class II Results:\", result_classII)"
   ]
  },
  {
   "cell_type": "code",
   "execution_count": 13,
   "id": "985e9330-878d-4922-bd76-1376bc8bf080",
   "metadata": {},
   "outputs": [
    {
     "name": "stdout",
     "output_type": "stream",
     "text": [
      "Processed Class II Results:\n",
      "                      allele  seq_num  start  end  length core_peptide  \\\n",
      "0  HLA-DQA1*05:01/DQB1*02:01        2      1   23      23    YDPTIEDSY   \n",
      "1             HLA-DRB1*01:01        2      1   23      23    FVDEYDPTI   \n",
      "2  HLA-DQA1*05:01/DQB1*02:01        1      1   15      15    IEDSYRKQV   \n",
      "3             HLA-DRB1*01:01        1      1   15      15    IEDSYRKQV   \n",
      "\n",
      "                   peptide      ic50  rank  \n",
      "0  IQLIQNHFVDEYDPTIEDSYRKQ    369.97   3.7  \n",
      "1  IQLIQNHFVDEYDPTIEDSYRKQ   1370.67  84.0  \n",
      "2          DPTIEDSYRKQVVID  10064.76  86.0  \n",
      "3          DPTIEDSYRKQVVID   3987.26  91.0  \n"
     ]
    }
   ],
   "source": [
    "import pandas as pd\n",
    "from io import StringIO\n",
    "\n",
    "def process_classII_results(results_text):\n",
    "    \"\"\"\n",
    "    Processes the Class II results returned by the IEDB API.\n",
    "\n",
    "    Args:\n",
    "        results_text (str): The raw results text returned by the API.\n",
    "\n",
    "    Returns:\n",
    "        DataFrame: A pandas DataFrame with processed results.\n",
    "    \"\"\"\n",
    "    # Use StringIO to convert the string into a file-like object\n",
    "    results_io = StringIO(results_text)\n",
    "    # Read the results into a pandas DataFrame\n",
    "    df = pd.read_csv(results_io, sep=\"\\t\")\n",
    "    return df\n",
    "\n",
    "# Process the results for Class II\n",
    "if \"results\" in result_classII:\n",
    "    df_classII_results = process_classII_results(result_classII[\"results\"])\n",
    "    print(\"Processed Class II Results:\")\n",
    "    print(df_classII_results)\n",
    "else:\n",
    "    print(\"Error in Class II Results:\", result_classII[\"error\"])"
   ]
  },
  {
   "cell_type": "code",
   "execution_count": null,
   "id": "0820b7b8-982a-4a4d-8512-bb514d00de25",
   "metadata": {},
   "outputs": [],
   "source": []
  }
 ],
 "metadata": {
  "kernelspec": {
   "display_name": "Python 3 (ipykernel)",
   "language": "python",
   "name": "python3"
  },
  "language_info": {
   "codemirror_mode": {
    "name": "ipython",
    "version": 3
   },
   "file_extension": ".py",
   "mimetype": "text/x-python",
   "name": "python",
   "nbconvert_exporter": "python",
   "pygments_lexer": "ipython3",
   "version": "3.11.9"
  }
 },
 "nbformat": 4,
 "nbformat_minor": 5
}
